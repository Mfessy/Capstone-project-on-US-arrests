{
 "cells": [
  {
   "cell_type": "markdown",
   "id": "b0e6578a",
   "metadata": {},
   "source": [
    "First, we import the necessary libraries, including Pandas for data manipulation, Numpy for mathematical operations, Matplotlib for visualization, and Scikit-learn for preprocessing, PCA, and clusteringand load the CSV file."
   ]
  },
  {
   "cell_type": "code",
   "execution_count": 1,
   "id": "43f011d4",
   "metadata": {},
   "outputs": [],
   "source": [
    "# Import necessary libraries\n",
    "import pandas as pd\n",
    "import numpy as np\n",
    "import matplotlib.pyplot as plt\n",
    "from sklearn.preprocessing import StandardScaler\n",
    "from sklearn.decomposition import PCA\n",
    "from sklearn.cluster import KMeans\n",
    "from sklearn.metrics import silhouette_score\n",
    "\n",
    "# Load the dataset\n",
    "df = pd.read_csv('UsArrests.csv', index_col=0)"
   ]
  },
  {
   "cell_type": "markdown",
   "id": "29f1fbc1",
   "metadata": {},
   "source": [
    "We inspect it using the head function. We also check for missing values using the isnull function and duplicates using the duplicated function. We check the data types of the features using the dtypes function."
   ]
  },
  {
   "cell_type": "code",
   "execution_count": 2,
   "id": "68ceec81",
   "metadata": {},
   "outputs": [
    {
     "data": {
      "text/html": [
       "<div>\n",
       "<style scoped>\n",
       "    .dataframe tbody tr th:only-of-type {\n",
       "        vertical-align: middle;\n",
       "    }\n",
       "\n",
       "    .dataframe tbody tr th {\n",
       "        vertical-align: top;\n",
       "    }\n",
       "\n",
       "    .dataframe thead th {\n",
       "        text-align: right;\n",
       "    }\n",
       "</style>\n",
       "<table border=\"1\" class=\"dataframe\">\n",
       "  <thead>\n",
       "    <tr style=\"text-align: right;\">\n",
       "      <th></th>\n",
       "      <th>Murder</th>\n",
       "      <th>Assault</th>\n",
       "      <th>UrbanPop</th>\n",
       "      <th>Rape</th>\n",
       "    </tr>\n",
       "    <tr>\n",
       "      <th>City</th>\n",
       "      <th></th>\n",
       "      <th></th>\n",
       "      <th></th>\n",
       "      <th></th>\n",
       "    </tr>\n",
       "  </thead>\n",
       "  <tbody>\n",
       "    <tr>\n",
       "      <th>Alabama</th>\n",
       "      <td>13.2</td>\n",
       "      <td>236</td>\n",
       "      <td>58</td>\n",
       "      <td>21.2</td>\n",
       "    </tr>\n",
       "    <tr>\n",
       "      <th>Alaska</th>\n",
       "      <td>10.0</td>\n",
       "      <td>263</td>\n",
       "      <td>48</td>\n",
       "      <td>44.5</td>\n",
       "    </tr>\n",
       "    <tr>\n",
       "      <th>Arizona</th>\n",
       "      <td>8.1</td>\n",
       "      <td>294</td>\n",
       "      <td>80</td>\n",
       "      <td>31.0</td>\n",
       "    </tr>\n",
       "    <tr>\n",
       "      <th>Arkansas</th>\n",
       "      <td>8.8</td>\n",
       "      <td>190</td>\n",
       "      <td>50</td>\n",
       "      <td>19.5</td>\n",
       "    </tr>\n",
       "    <tr>\n",
       "      <th>California</th>\n",
       "      <td>9.0</td>\n",
       "      <td>276</td>\n",
       "      <td>91</td>\n",
       "      <td>40.6</td>\n",
       "    </tr>\n",
       "  </tbody>\n",
       "</table>\n",
       "</div>"
      ],
      "text/plain": [
       "            Murder  Assault  UrbanPop  Rape\n",
       "City                                       \n",
       "Alabama       13.2      236        58  21.2\n",
       "Alaska        10.0      263        48  44.5\n",
       "Arizona        8.1      294        80  31.0\n",
       "Arkansas       8.8      190        50  19.5\n",
       "California     9.0      276        91  40.6"
      ]
     },
     "execution_count": 2,
     "metadata": {},
     "output_type": "execute_result"
    }
   ],
   "source": [
    "#inspect the data set\n",
    "df.head()"
   ]
  },
  {
   "cell_type": "code",
   "execution_count": 3,
   "id": "59be2474",
   "metadata": {},
   "outputs": [
    {
     "data": {
      "text/plain": [
       "Murder      0\n",
       "Assault     0\n",
       "UrbanPop    0\n",
       "Rape        0\n",
       "dtype: int64"
      ]
     },
     "execution_count": 3,
     "metadata": {},
     "output_type": "execute_result"
    }
   ],
   "source": [
    "#check for missing values\n",
    "df.isnull().sum()"
   ]
  },
  {
   "cell_type": "code",
   "execution_count": 4,
   "id": "131ec9c7",
   "metadata": {},
   "outputs": [
    {
     "data": {
      "text/plain": [
       "0"
      ]
     },
     "execution_count": 4,
     "metadata": {},
     "output_type": "execute_result"
    }
   ],
   "source": [
    "#check for missing values\n",
    "df.duplicated().sum()"
   ]
  },
  {
   "cell_type": "code",
   "execution_count": 5,
   "id": "a1b24d03",
   "metadata": {},
   "outputs": [
    {
     "data": {
      "text/plain": [
       "Murder      float64\n",
       "Assault       int64\n",
       "UrbanPop      int64\n",
       "Rape        float64\n",
       "dtype: object"
      ]
     },
     "execution_count": 5,
     "metadata": {},
     "output_type": "execute_result"
    }
   ],
   "source": [
    "df.dtypes"
   ]
  },
  {
   "cell_type": "markdown",
   "id": "cf92fd11",
   "metadata": {},
   "source": [
    "Then, we perform a preprocessing step by scaling the data using the StandardScaler function from Scikit-learn.\n",
    "\n",
    "After scaling, we perform PCA using the PCA function from Scikit-learn. We set the number of components to 2, so we can plot the results in a 2-dimensional space. We plot the first two principal components using the scatter function from Matplotlib.\n",
    "\n",
    "We calculate the explained variance ratio using the explained_variance_ratio_ attribute of the PCA object. The explained variance ratio is a measure of how much information is retained by each principal component."
   ]
  },
  {
   "cell_type": "code",
   "execution_count": 6,
   "id": "6d6e97dd",
   "metadata": {},
   "outputs": [],
   "source": [
    "# Preprocessing step: scale the data\n",
    "scaler = StandardScaler()\n",
    "scaled_df = scaler.fit_transform(df)"
   ]
  },
  {
   "cell_type": "code",
   "execution_count": 7,
   "id": "b5e16614",
   "metadata": {},
   "outputs": [],
   "source": [
    "# Perform principal component analysis (PCA)\n",
    "pca = PCA(n_components=2)\n",
    "pca_df = pca.fit_transform(scaled_df)"
   ]
  },
  {
   "cell_type": "code",
   "execution_count": 8,
   "id": "b0224cee",
   "metadata": {},
   "outputs": [
    {
     "data": {
      "image/png": "[encoded data removed]",
      "text/plain": [
       "<Figure size 432x288 with 1 Axes>"
      ]
     },
     "metadata": {
      "needs_background": "light"
     },
     "output_type": "display_data"
    }
   ],
   "source": [
    "# Plot the first two principal components\n",
    "plt.scatter(pca_df[:,0], pca_df[:,1])\n",
    "plt.xlabel('PC1')\n",
    "plt.ylabel('PC2')\n",
    "plt.show()"
   ]
  },
  {
   "cell_type": "code",
   "execution_count": 9,
   "id": "4dea9d99",
   "metadata": {},
   "outputs": [
    {
     "name": "stdout",
     "output_type": "stream",
     "text": [
      "Explained variance ratio: [0.62006039 0.24744129]\n"
     ]
    }
   ],
   "source": [
    "# Calculate the explained variance ratio\n",
    "explained_variance_ratio = pca.explained_variance_ratio_\n",
    "print(f\"Explained variance ratio: {explained_variance_ratio}\")"
   ]
  },
  {
   "cell_type": "markdown",
   "id": "dadea228",
   "metadata": {},
   "source": [
    "The explained variance ratio is a measure of how much of the total variance in the data is accounted for by each principal component. In this case, we have a two-dimensional principal component space, so we have two explained variance ratios, which tell us how much of the total variance is accounted for by each principal component.\n",
    "\n",
    "The first explained variance ratio is 0.62006039, which means that the first principal component accounts for about 62% of the total variance in the data. The second explained variance ratio is 0.24744129, which means that the second principal component accounts for about 25% of the total variance in the data. Together, these two principal components account for about 87% of the total variance in the data.\n",
    "\n",
    "This information is useful because it tells us how many principal components we might need to keep in order to retain a certain amount of the variance in the data. For example, if we want to retain 90% of the total variance in the data, we might decide to keep the first three principal components, since they account for 87% of the variance."
   ]
  },
  {
   "cell_type": "markdown",
   "id": "5e69d609",
   "metadata": {},
   "source": [
    "Next, we perform KMeans clustering using the KMeans function from Scikit-learn. We set the number of clusters to 2 and fit the scaled data to the model. We plot the results using the scatter function from Matplotlib and color the points according to their cluster labels. We also calculate the silhouette score using the silhouette_score function from Scikit-learn."
   ]
  },
  {
   "cell_type": "code",
   "execution_count": 10,
   "id": "cc353e5b",
   "metadata": {},
   "outputs": [
    {
     "name": "stdout",
     "output_type": "stream",
     "text": [
      "Silhouette score: 0.4084890326217641\n"
     ]
    },
    {
     "data": {
      "image/png": "[encoded data removed]",
      "text/plain": [
       "<Figure size 432x288 with 1 Axes>"
      ]
     },
     "metadata": {
      "needs_background": "light"
     },
     "output_type": "display_data"
    }
   ],
   "source": [
    "# Perform KMeans clustering and plot the results\n",
    "kmeans = KMeans(n_clusters=2)\n",
    "kmeans.fit(scaled_df)\n",
    "labels = kmeans.labels_\n",
    "silhouette_avg = silhouette_score(scaled_df, labels)\n",
    "print(f\"Silhouette score: {silhouette_avg}\")\n",
    "plt.scatter(pca_df[:,0], pca_df[:,1], c=labels)\n",
    "plt.xlabel('PC1')\n",
    "plt.ylabel('PC2')\n",
    "plt.show()"
   ]
  },
  {
   "cell_type": "markdown",
   "id": "55bf83df",
   "metadata": {},
   "source": [
    "The Silhouette score is a measure of how similar an object is to its own cluster compared to other clusters. It ranges from -1 to 1, with a higher score indicating that the object is well-matched to its own cluster and poorly matched to neighboring clusters. In this case, the Silhouette score of 0.408 indicates a reasonably good clustering. A score above 0.5 is generally considered a good clustering result."
   ]
  },
  {
   "cell_type": "markdown",
   "id": "e4284427",
   "metadata": {},
   "source": [
    "Finally, we perform hierarchical clustering using the linkage function from Scipy. We use the 'ward' method for linkage, which minimizes the variance of the distances between the clusters being merged. We plot the results using the dendrogram function from Scipy"
   ]
  },
  {
   "cell_type": "code",
   "execution_count": 11,
   "id": "6f95ec42",
   "metadata": {},
   "outputs": [
    {
     "data": {
      "image/png": "[encoded data removed]",
      "text/plain": [
       "<Figure size 432x288 with 1 Axes>"
      ]
     },
     "metadata": {
      "needs_background": "light"
     },
     "output_type": "display_data"
    }
   ],
   "source": [
    "# Perform hierarchical clustering and plot the results\n",
    "from scipy.cluster.hierarchy import linkage, dendrogram\n",
    "Z = linkage(scaled_df, method='ward')\n",
    "dendrogram(Z, leaf_rotation=90)\n",
    "plt.show()"
   ]
  },
  {
   "cell_type": "markdown",
   "id": "c492172d",
   "metadata": {},
   "source": [
    "The dendrogram shows the hierarchical clustering of the data based on the ward linkage method. The x-axis shows the 50 states in the US, and the y-axis shows the Euclidean distance between them. The height of the dendrogram at each merge indicates the distance between the two clusters being merged.\n",
    "\n",
    "From the dendrogram, we can see that the states tend to form two main clusters. The first cluster includes states such as Maine, Vermont, New Hampshire, Massachusetts, and Rhode Island. The second cluster includes states such as California, Nevada, Arizona, and New Mexico.\n",
    "\n",
    "The dendrogram also shows several subclusters within each of these main clusters. For example, within the second cluster, there is a subcluster that includes Texas, Louisiana, and Mississippi, and another subcluster that includes Oregon, Washington, and Montana.\n",
    "\n",
    "Overall, the dendrogram suggests that there are distinct regional differences in the patterns of arrests for assault, murder, and rape across the US states."
   ]
  },
  {
   "cell_type": "code",
   "execution_count": null,
   "id": "15356961",
   "metadata": {},
   "outputs": [],
   "source": []
  }
 ],
 "metadata": {
  "kernelspec": {
   "display_name": "Python 3 (ipykernel)",
   "language": "python",
   "name": "python3"
  },
  "language_info": {
   "codemirror_mode": {
    "name": "ipython",
    "version": 3
   },
   "file_extension": ".py",
   "mimetype": "text/x-python",
   "name": "python",
   "nbconvert_exporter": "python",
   "pygments_lexer": "ipython3",
   "version": "3.9.12"
  }
 },
 "nbformat": 4,
 "nbformat_minor": 5
}
